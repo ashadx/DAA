{
 "cells": [
  {
   "cell_type": "code",
   "execution_count": 1,
   "id": "4ab239c7",
   "metadata": {
    "execution": {
     "iopub.execute_input": "2023-01-09T20:43:54.342331Z",
     "iopub.status.busy": "2023-01-09T20:43:54.341892Z",
     "iopub.status.idle": "2023-01-09T20:43:55.740826Z",
     "shell.execute_reply": "2023-01-09T20:43:55.739691Z"
    },
    "id": "PM6OQZG9DwYy",
    "papermill": {
     "duration": 1.411186,
     "end_time": "2023-01-09T20:43:55.744563",
     "exception": false,
     "start_time": "2023-01-09T20:43:54.333377",
     "status": "completed"
    },
    "tags": []
   },
   "outputs": [],
   "source": [
    "import pandas as pd\n",
    "import numpy as np\n",
    "import matplotlib.pyplot as plt\n",
    "import seaborn as sns\n",
    "from sklearn.preprocessing import MinMaxScaler\n",
    "from sklearn.linear_model import LogisticRegression\n",
    "from sklearn.model_selection import cross_val_score , train_test_split\n",
    "from sklearn.metrics import classification_report"
   ]
  },
  {
   "cell_type": "code",
   "execution_count": 2,
   "id": "ff4346de",
   "metadata": {
    "execution": {
     "iopub.execute_input": "2023-01-09T20:43:55.758812Z",
     "iopub.status.busy": "2023-01-09T20:43:55.758404Z",
     "iopub.status.idle": "2023-01-09T20:43:55.784424Z",
     "shell.execute_reply": "2023-01-09T20:43:55.783706Z"
    },
    "id": "2674W9NHFYt3",
    "papermill": {
     "duration": 0.035374,
     "end_time": "2023-01-09T20:43:55.786573",
     "exception": false,
     "start_time": "2023-01-09T20:43:55.751199",
     "status": "completed"
    },
    "tags": []
   },
   "outputs": [],
   "source": [
    "data = pd.read_csv('kidney_disease.csv')"
   ]
  },
  {
   "cell_type": "code",
   "execution_count": 3,
   "id": "1d8daea5",
   "metadata": {
    "execution": {
     "iopub.execute_input": "2023-01-09T20:43:55.800541Z",
     "iopub.status.busy": "2023-01-09T20:43:55.799680Z",
     "iopub.status.idle": "2023-01-09T20:43:55.836012Z",
     "shell.execute_reply": "2023-01-09T20:43:55.834884Z"
    },
    "id": "Q9hP5bkvPgEC",
    "outputId": "4af6c5d1-a795-40c9-9319-39a39b624bd1",
    "papermill": {
     "duration": 0.0456,
     "end_time": "2023-01-09T20:43:55.838303",
     "exception": false,
     "start_time": "2023-01-09T20:43:55.792703",
     "status": "completed"
    },
    "tags": []
   },
   "outputs": [
    {
     "data": {
      "text/html": [
       "<div>\n",
       "<style scoped>\n",
       "    .dataframe tbody tr th:only-of-type {\n",
       "        vertical-align: middle;\n",
       "    }\n",
       "\n",
       "    .dataframe tbody tr th {\n",
       "        vertical-align: top;\n",
       "    }\n",
       "\n",
       "    .dataframe thead th {\n",
       "        text-align: right;\n",
       "    }\n",
       "</style>\n",
       "<table border=\"1\" class=\"dataframe\">\n",
       "  <thead>\n",
       "    <tr style=\"text-align: right;\">\n",
       "      <th></th>\n",
       "      <th>id</th>\n",
       "      <th>age</th>\n",
       "      <th>bp</th>\n",
       "      <th>sg</th>\n",
       "      <th>al</th>\n",
       "      <th>su</th>\n",
       "      <th>rbc</th>\n",
       "      <th>pc</th>\n",
       "      <th>pcc</th>\n",
       "      <th>ba</th>\n",
       "      <th>...</th>\n",
       "      <th>pcv</th>\n",
       "      <th>wc</th>\n",
       "      <th>rc</th>\n",
       "      <th>htn</th>\n",
       "      <th>dm</th>\n",
       "      <th>cad</th>\n",
       "      <th>appet</th>\n",
       "      <th>pe</th>\n",
       "      <th>ane</th>\n",
       "      <th>classification</th>\n",
       "    </tr>\n",
       "  </thead>\n",
       "  <tbody>\n",
       "    <tr>\n",
       "      <th>0</th>\n",
       "      <td>0</td>\n",
       "      <td>48.0</td>\n",
       "      <td>80.0</td>\n",
       "      <td>1.020</td>\n",
       "      <td>1.0</td>\n",
       "      <td>0.0</td>\n",
       "      <td>NaN</td>\n",
       "      <td>normal</td>\n",
       "      <td>notpresent</td>\n",
       "      <td>notpresent</td>\n",
       "      <td>...</td>\n",
       "      <td>44</td>\n",
       "      <td>7800</td>\n",
       "      <td>5.2</td>\n",
       "      <td>yes</td>\n",
       "      <td>yes</td>\n",
       "      <td>no</td>\n",
       "      <td>good</td>\n",
       "      <td>no</td>\n",
       "      <td>no</td>\n",
       "      <td>ckd</td>\n",
       "    </tr>\n",
       "    <tr>\n",
       "      <th>1</th>\n",
       "      <td>1</td>\n",
       "      <td>7.0</td>\n",
       "      <td>50.0</td>\n",
       "      <td>1.020</td>\n",
       "      <td>4.0</td>\n",
       "      <td>0.0</td>\n",
       "      <td>NaN</td>\n",
       "      <td>normal</td>\n",
       "      <td>notpresent</td>\n",
       "      <td>notpresent</td>\n",
       "      <td>...</td>\n",
       "      <td>38</td>\n",
       "      <td>6000</td>\n",
       "      <td>NaN</td>\n",
       "      <td>no</td>\n",
       "      <td>no</td>\n",
       "      <td>no</td>\n",
       "      <td>good</td>\n",
       "      <td>no</td>\n",
       "      <td>no</td>\n",
       "      <td>ckd</td>\n",
       "    </tr>\n",
       "    <tr>\n",
       "      <th>2</th>\n",
       "      <td>2</td>\n",
       "      <td>62.0</td>\n",
       "      <td>80.0</td>\n",
       "      <td>1.010</td>\n",
       "      <td>2.0</td>\n",
       "      <td>3.0</td>\n",
       "      <td>normal</td>\n",
       "      <td>normal</td>\n",
       "      <td>notpresent</td>\n",
       "      <td>notpresent</td>\n",
       "      <td>...</td>\n",
       "      <td>31</td>\n",
       "      <td>7500</td>\n",
       "      <td>NaN</td>\n",
       "      <td>no</td>\n",
       "      <td>yes</td>\n",
       "      <td>no</td>\n",
       "      <td>poor</td>\n",
       "      <td>no</td>\n",
       "      <td>yes</td>\n",
       "      <td>ckd</td>\n",
       "    </tr>\n",
       "    <tr>\n",
       "      <th>3</th>\n",
       "      <td>3</td>\n",
       "      <td>48.0</td>\n",
       "      <td>70.0</td>\n",
       "      <td>1.005</td>\n",
       "      <td>4.0</td>\n",
       "      <td>0.0</td>\n",
       "      <td>normal</td>\n",
       "      <td>abnormal</td>\n",
       "      <td>present</td>\n",
       "      <td>notpresent</td>\n",
       "      <td>...</td>\n",
       "      <td>32</td>\n",
       "      <td>6700</td>\n",
       "      <td>3.9</td>\n",
       "      <td>yes</td>\n",
       "      <td>no</td>\n",
       "      <td>no</td>\n",
       "      <td>poor</td>\n",
       "      <td>yes</td>\n",
       "      <td>yes</td>\n",
       "      <td>ckd</td>\n",
       "    </tr>\n",
       "    <tr>\n",
       "      <th>4</th>\n",
       "      <td>4</td>\n",
       "      <td>51.0</td>\n",
       "      <td>80.0</td>\n",
       "      <td>1.010</td>\n",
       "      <td>2.0</td>\n",
       "      <td>0.0</td>\n",
       "      <td>normal</td>\n",
       "      <td>normal</td>\n",
       "      <td>notpresent</td>\n",
       "      <td>notpresent</td>\n",
       "      <td>...</td>\n",
       "      <td>35</td>\n",
       "      <td>7300</td>\n",
       "      <td>4.6</td>\n",
       "      <td>no</td>\n",
       "      <td>no</td>\n",
       "      <td>no</td>\n",
       "      <td>good</td>\n",
       "      <td>no</td>\n",
       "      <td>no</td>\n",
       "      <td>ckd</td>\n",
       "    </tr>\n",
       "  </tbody>\n",
       "</table>\n",
       "<p>5 rows × 26 columns</p>\n",
       "</div>"
      ],
      "text/plain": [
       "   id   age    bp     sg   al   su     rbc        pc         pcc          ba  \\\n",
       "0   0  48.0  80.0  1.020  1.0  0.0     NaN    normal  notpresent  notpresent   \n",
       "1   1   7.0  50.0  1.020  4.0  0.0     NaN    normal  notpresent  notpresent   \n",
       "2   2  62.0  80.0  1.010  2.0  3.0  normal    normal  notpresent  notpresent   \n",
       "3   3  48.0  70.0  1.005  4.0  0.0  normal  abnormal     present  notpresent   \n",
       "4   4  51.0  80.0  1.010  2.0  0.0  normal    normal  notpresent  notpresent   \n",
       "\n",
       "   ...  pcv    wc   rc  htn   dm  cad appet   pe  ane classification  \n",
       "0  ...   44  7800  5.2  yes  yes   no  good   no   no            ckd  \n",
       "1  ...   38  6000  NaN   no   no   no  good   no   no            ckd  \n",
       "2  ...   31  7500  NaN   no  yes   no  poor   no  yes            ckd  \n",
       "3  ...   32  6700  3.9  yes   no   no  poor  yes  yes            ckd  \n",
       "4  ...   35  7300  4.6   no   no   no  good   no   no            ckd  \n",
       "\n",
       "[5 rows x 26 columns]"
      ]
     },
     "execution_count": 3,
     "metadata": {},
     "output_type": "execute_result"
    }
   ],
   "source": [
    "data.head()"
   ]
  },
  {
   "cell_type": "code",
   "execution_count": 4,
   "id": "7f6d40a1",
   "metadata": {
    "execution": {
     "iopub.execute_input": "2023-01-09T20:43:55.853776Z",
     "iopub.status.busy": "2023-01-09T20:43:55.852578Z",
     "iopub.status.idle": "2023-01-09T20:43:55.860549Z",
     "shell.execute_reply": "2023-01-09T20:43:55.859260Z"
    },
    "id": "IdyFfWKBPp9A",
    "outputId": "882498f1-60c0-416d-fe74-1cdec2e78183",
    "papermill": {
     "duration": 0.01843,
     "end_time": "2023-01-09T20:43:55.863365",
     "exception": false,
     "start_time": "2023-01-09T20:43:55.844935",
     "status": "completed"
    },
    "tags": []
   },
   "outputs": [
    {
     "data": {
      "text/plain": [
       "Index(['id', 'age', 'bp', 'sg', 'al', 'su', 'rbc', 'pc', 'pcc', 'ba', 'bgr',\n",
       "       'bu', 'sc', 'sod', 'pot', 'hemo', 'pcv', 'wc', 'rc', 'htn', 'dm', 'cad',\n",
       "       'appet', 'pe', 'ane', 'classification'],\n",
       "      dtype='object')"
      ]
     },
     "execution_count": 4,
     "metadata": {},
     "output_type": "execute_result"
    }
   ],
   "source": [
    "data.columns"
   ]
  },
  {
   "cell_type": "code",
   "execution_count": 5,
   "id": "ff8ac7c2",
   "metadata": {
    "execution": {
     "iopub.execute_input": "2023-01-09T20:43:55.878049Z",
     "iopub.status.busy": "2023-01-09T20:43:55.877655Z",
     "iopub.status.idle": "2023-01-09T20:43:55.902144Z",
     "shell.execute_reply": "2023-01-09T20:43:55.900983Z"
    },
    "id": "eeHGFW5oF_Q9",
    "outputId": "97f68318-8201-4111-af74-d99172815b32",
    "papermill": {
     "duration": 0.034028,
     "end_time": "2023-01-09T20:43:55.904062",
     "exception": false,
     "start_time": "2023-01-09T20:43:55.870034",
     "status": "completed"
    },
    "tags": []
   },
   "outputs": [
    {
     "name": "stdout",
     "output_type": "stream",
     "text": [
      "<class 'pandas.core.frame.DataFrame'>\n",
      "RangeIndex: 400 entries, 0 to 399\n",
      "Data columns (total 26 columns):\n",
      " #   Column          Non-Null Count  Dtype  \n",
      "---  ------          --------------  -----  \n",
      " 0   id              400 non-null    int64  \n",
      " 1   age             391 non-null    float64\n",
      " 2   bp              388 non-null    float64\n",
      " 3   sg              353 non-null    float64\n",
      " 4   al              354 non-null    float64\n",
      " 5   su              351 non-null    float64\n",
      " 6   rbc             248 non-null    object \n",
      " 7   pc              335 non-null    object \n",
      " 8   pcc             396 non-null    object \n",
      " 9   ba              396 non-null    object \n",
      " 10  bgr             356 non-null    float64\n",
      " 11  bu              381 non-null    float64\n",
      " 12  sc              383 non-null    float64\n",
      " 13  sod             313 non-null    float64\n",
      " 14  pot             312 non-null    float64\n",
      " 15  hemo            348 non-null    float64\n",
      " 16  pcv             330 non-null    object \n",
      " 17  wc              295 non-null    object \n",
      " 18  rc              270 non-null    object \n",
      " 19  htn             398 non-null    object \n",
      " 20  dm              398 non-null    object \n",
      " 21  cad             398 non-null    object \n",
      " 22  appet           399 non-null    object \n",
      " 23  pe              399 non-null    object \n",
      " 24  ane             399 non-null    object \n",
      " 25  classification  400 non-null    object \n",
      "dtypes: float64(11), int64(1), object(14)\n",
      "memory usage: 81.4+ KB\n"
     ]
    }
   ],
   "source": [
    "data.info()"
   ]
  },
  {
   "cell_type": "code",
   "execution_count": 6,
   "id": "c10ee824",
   "metadata": {
    "execution": {
     "iopub.execute_input": "2023-01-09T20:43:55.920215Z",
     "iopub.status.busy": "2023-01-09T20:43:55.919052Z",
     "iopub.status.idle": "2023-01-09T20:43:55.960544Z",
     "shell.execute_reply": "2023-01-09T20:43:55.959088Z"
    },
    "id": "uEJxW3umGBou",
    "outputId": "d39362dd-9f53-4ead-ea6c-353b3ae938a1",
    "papermill": {
     "duration": 0.051689,
     "end_time": "2023-01-09T20:43:55.962690",
     "exception": false,
     "start_time": "2023-01-09T20:43:55.911001",
     "status": "completed"
    },
    "tags": []
   },
   "outputs": [
    {
     "data": {
      "text/html": [
       "<div>\n",
       "<style scoped>\n",
       "    .dataframe tbody tr th:only-of-type {\n",
       "        vertical-align: middle;\n",
       "    }\n",
       "\n",
       "    .dataframe tbody tr th {\n",
       "        vertical-align: top;\n",
       "    }\n",
       "\n",
       "    .dataframe thead th {\n",
       "        text-align: right;\n",
       "    }\n",
       "</style>\n",
       "<table border=\"1\" class=\"dataframe\">\n",
       "  <thead>\n",
       "    <tr style=\"text-align: right;\">\n",
       "      <th></th>\n",
       "      <th>id</th>\n",
       "      <th>age</th>\n",
       "      <th>bp</th>\n",
       "      <th>sg</th>\n",
       "      <th>al</th>\n",
       "      <th>su</th>\n",
       "      <th>bgr</th>\n",
       "      <th>bu</th>\n",
       "      <th>sc</th>\n",
       "      <th>sod</th>\n",
       "      <th>pot</th>\n",
       "      <th>hemo</th>\n",
       "    </tr>\n",
       "  </thead>\n",
       "  <tbody>\n",
       "    <tr>\n",
       "      <th>count</th>\n",
       "      <td>400.000000</td>\n",
       "      <td>391.000000</td>\n",
       "      <td>388.000000</td>\n",
       "      <td>353.000000</td>\n",
       "      <td>354.000000</td>\n",
       "      <td>351.000000</td>\n",
       "      <td>356.000000</td>\n",
       "      <td>381.000000</td>\n",
       "      <td>383.000000</td>\n",
       "      <td>313.000000</td>\n",
       "      <td>312.000000</td>\n",
       "      <td>348.000000</td>\n",
       "    </tr>\n",
       "    <tr>\n",
       "      <th>mean</th>\n",
       "      <td>199.500000</td>\n",
       "      <td>51.483376</td>\n",
       "      <td>76.469072</td>\n",
       "      <td>1.017408</td>\n",
       "      <td>1.016949</td>\n",
       "      <td>0.450142</td>\n",
       "      <td>148.036517</td>\n",
       "      <td>57.425722</td>\n",
       "      <td>3.072454</td>\n",
       "      <td>137.528754</td>\n",
       "      <td>4.627244</td>\n",
       "      <td>12.526437</td>\n",
       "    </tr>\n",
       "    <tr>\n",
       "      <th>std</th>\n",
       "      <td>115.614301</td>\n",
       "      <td>17.169714</td>\n",
       "      <td>13.683637</td>\n",
       "      <td>0.005717</td>\n",
       "      <td>1.352679</td>\n",
       "      <td>1.099191</td>\n",
       "      <td>79.281714</td>\n",
       "      <td>50.503006</td>\n",
       "      <td>5.741126</td>\n",
       "      <td>10.408752</td>\n",
       "      <td>3.193904</td>\n",
       "      <td>2.912587</td>\n",
       "    </tr>\n",
       "    <tr>\n",
       "      <th>min</th>\n",
       "      <td>0.000000</td>\n",
       "      <td>2.000000</td>\n",
       "      <td>50.000000</td>\n",
       "      <td>1.005000</td>\n",
       "      <td>0.000000</td>\n",
       "      <td>0.000000</td>\n",
       "      <td>22.000000</td>\n",
       "      <td>1.500000</td>\n",
       "      <td>0.400000</td>\n",
       "      <td>4.500000</td>\n",
       "      <td>2.500000</td>\n",
       "      <td>3.100000</td>\n",
       "    </tr>\n",
       "    <tr>\n",
       "      <th>25%</th>\n",
       "      <td>99.750000</td>\n",
       "      <td>42.000000</td>\n",
       "      <td>70.000000</td>\n",
       "      <td>1.010000</td>\n",
       "      <td>0.000000</td>\n",
       "      <td>0.000000</td>\n",
       "      <td>99.000000</td>\n",
       "      <td>27.000000</td>\n",
       "      <td>0.900000</td>\n",
       "      <td>135.000000</td>\n",
       "      <td>3.800000</td>\n",
       "      <td>10.300000</td>\n",
       "    </tr>\n",
       "    <tr>\n",
       "      <th>50%</th>\n",
       "      <td>199.500000</td>\n",
       "      <td>55.000000</td>\n",
       "      <td>80.000000</td>\n",
       "      <td>1.020000</td>\n",
       "      <td>0.000000</td>\n",
       "      <td>0.000000</td>\n",
       "      <td>121.000000</td>\n",
       "      <td>42.000000</td>\n",
       "      <td>1.300000</td>\n",
       "      <td>138.000000</td>\n",
       "      <td>4.400000</td>\n",
       "      <td>12.650000</td>\n",
       "    </tr>\n",
       "    <tr>\n",
       "      <th>75%</th>\n",
       "      <td>299.250000</td>\n",
       "      <td>64.500000</td>\n",
       "      <td>80.000000</td>\n",
       "      <td>1.020000</td>\n",
       "      <td>2.000000</td>\n",
       "      <td>0.000000</td>\n",
       "      <td>163.000000</td>\n",
       "      <td>66.000000</td>\n",
       "      <td>2.800000</td>\n",
       "      <td>142.000000</td>\n",
       "      <td>4.900000</td>\n",
       "      <td>15.000000</td>\n",
       "    </tr>\n",
       "    <tr>\n",
       "      <th>max</th>\n",
       "      <td>399.000000</td>\n",
       "      <td>90.000000</td>\n",
       "      <td>180.000000</td>\n",
       "      <td>1.025000</td>\n",
       "      <td>5.000000</td>\n",
       "      <td>5.000000</td>\n",
       "      <td>490.000000</td>\n",
       "      <td>391.000000</td>\n",
       "      <td>76.000000</td>\n",
       "      <td>163.000000</td>\n",
       "      <td>47.000000</td>\n",
       "      <td>17.800000</td>\n",
       "    </tr>\n",
       "  </tbody>\n",
       "</table>\n",
       "</div>"
      ],
      "text/plain": [
       "               id         age          bp          sg          al          su  \\\n",
       "count  400.000000  391.000000  388.000000  353.000000  354.000000  351.000000   \n",
       "mean   199.500000   51.483376   76.469072    1.017408    1.016949    0.450142   \n",
       "std    115.614301   17.169714   13.683637    0.005717    1.352679    1.099191   \n",
       "min      0.000000    2.000000   50.000000    1.005000    0.000000    0.000000   \n",
       "25%     99.750000   42.000000   70.000000    1.010000    0.000000    0.000000   \n",
       "50%    199.500000   55.000000   80.000000    1.020000    0.000000    0.000000   \n",
       "75%    299.250000   64.500000   80.000000    1.020000    2.000000    0.000000   \n",
       "max    399.000000   90.000000  180.000000    1.025000    5.000000    5.000000   \n",
       "\n",
       "              bgr          bu          sc         sod         pot        hemo  \n",
       "count  356.000000  381.000000  383.000000  313.000000  312.000000  348.000000  \n",
       "mean   148.036517   57.425722    3.072454  137.528754    4.627244   12.526437  \n",
       "std     79.281714   50.503006    5.741126   10.408752    3.193904    2.912587  \n",
       "min     22.000000    1.500000    0.400000    4.500000    2.500000    3.100000  \n",
       "25%     99.000000   27.000000    0.900000  135.000000    3.800000   10.300000  \n",
       "50%    121.000000   42.000000    1.300000  138.000000    4.400000   12.650000  \n",
       "75%    163.000000   66.000000    2.800000  142.000000    4.900000   15.000000  \n",
       "max    490.000000  391.000000   76.000000  163.000000   47.000000   17.800000  "
      ]
     },
     "execution_count": 6,
     "metadata": {},
     "output_type": "execute_result"
    }
   ],
   "source": [
    "data.describe()"
   ]
  },
  {
   "cell_type": "code",
   "execution_count": 7,
   "id": "ba3c807b",
   "metadata": {
    "execution": {
     "iopub.execute_input": "2023-01-09T20:43:55.979937Z",
     "iopub.status.busy": "2023-01-09T20:43:55.979516Z",
     "iopub.status.idle": "2023-01-09T20:43:55.985851Z",
     "shell.execute_reply": "2023-01-09T20:43:55.984978Z"
    },
    "id": "9ElUrsAnNW1o",
    "papermill": {
     "duration": 0.017029,
     "end_time": "2023-01-09T20:43:55.988114",
     "exception": false,
     "start_time": "2023-01-09T20:43:55.971085",
     "status": "completed"
    },
    "tags": []
   },
   "outputs": [],
   "source": [
    "NumericalColumns = ['age','bp','al','su','bgr','bu','sc','sod','pot','hemo']\n",
    "CategoricalColumns = ['rbc','sg','pc','pcc','ba','pcv','wc','rc','htn','dm','cad','appet','pe','ane']"
   ]
  },
  {
   "cell_type": "markdown",
   "id": "20ed6d83",
   "metadata": {
    "id": "layHi7E8Pxut",
    "papermill": {
     "duration": 0.011346,
     "end_time": "2023-01-09T20:44:01.593229",
     "exception": false,
     "start_time": "2023-01-09T20:44:01.581883",
     "status": "completed"
    },
    "tags": []
   },
   "source": [
    "# Missing Data"
   ]
  },
  {
   "cell_type": "code",
   "execution_count": 9,
   "id": "41387944",
   "metadata": {
    "execution": {
     "iopub.execute_input": "2023-01-09T20:44:01.618446Z",
     "iopub.status.busy": "2023-01-09T20:44:01.617824Z",
     "iopub.status.idle": "2023-01-09T20:44:01.626308Z",
     "shell.execute_reply": "2023-01-09T20:44:01.625526Z"
    },
    "id": "lubtRsP_-1P9",
    "papermill": {
     "duration": 0.023262,
     "end_time": "2023-01-09T20:44:01.628111",
     "exception": false,
     "start_time": "2023-01-09T20:44:01.604849",
     "status": "completed"
    },
    "tags": []
   },
   "outputs": [
    {
     "data": {
      "text/plain": [
       "id                  0\n",
       "age                 9\n",
       "bp                 12\n",
       "sg                 47\n",
       "al                 46\n",
       "su                 49\n",
       "rbc               152\n",
       "pc                 65\n",
       "pcc                 4\n",
       "ba                  4\n",
       "bgr                44\n",
       "bu                 19\n",
       "sc                 17\n",
       "sod                87\n",
       "pot                88\n",
       "hemo               52\n",
       "pcv                70\n",
       "wc                105\n",
       "rc                130\n",
       "htn                 2\n",
       "dm                  2\n",
       "cad                 2\n",
       "appet               1\n",
       "pe                  1\n",
       "ane                 1\n",
       "classification      0\n",
       "dtype: int64"
      ]
     },
     "execution_count": 9,
     "metadata": {},
     "output_type": "execute_result"
    }
   ],
   "source": [
    "data.isnull().sum()"
   ]
  },
  {
   "cell_type": "code",
   "execution_count": 10,
   "id": "e0a4c47c",
   "metadata": {
    "execution": {
     "iopub.execute_input": "2023-01-09T20:44:01.653667Z",
     "iopub.status.busy": "2023-01-09T20:44:01.653025Z",
     "iopub.status.idle": "2023-01-09T20:44:01.660214Z",
     "shell.execute_reply": "2023-01-09T20:44:01.659476Z"
    },
    "id": "YQhYU2m5KtjN",
    "papermill": {
     "duration": 0.022483,
     "end_time": "2023-01-09T20:44:01.662352",
     "exception": false,
     "start_time": "2023-01-09T20:44:01.639869",
     "status": "completed"
    },
    "tags": []
   },
   "outputs": [],
   "source": [
    "data['classification'].replace(\"ckd\\t\",\"ckd\",inplace=True)\n",
    "\n",
    "data['dm'].replace([\"\\tno\",\"\\tyes\",\" yes\"],[\"no\",\"yes\",\"yes\"],inplace=True)\n",
    "\n",
    "data['cad'].replace([\"\\tno\"],[\"no\"],inplace=True)"
   ]
  },
  {
   "cell_type": "code",
   "execution_count": 11,
   "id": "17b9f1f2",
   "metadata": {
    "execution": {
     "iopub.execute_input": "2023-01-09T20:44:01.688059Z",
     "iopub.status.busy": "2023-01-09T20:44:01.687434Z",
     "iopub.status.idle": "2023-01-09T20:44:01.695294Z",
     "shell.execute_reply": "2023-01-09T20:44:01.694534Z"
    },
    "id": "LvZGpTu8M7Ks",
    "papermill": {
     "duration": 0.02334,
     "end_time": "2023-01-09T20:44:01.697599",
     "exception": false,
     "start_time": "2023-01-09T20:44:01.674259",
     "status": "completed"
    },
    "tags": []
   },
   "outputs": [],
   "source": [
    "data['rc'].replace(\"\\t?\",np.nan, inplace=True)\n",
    "\n",
    "data.wc.replace(\"\\t?\",np.nan, inplace=True)\n",
    "\n",
    "data['pcv'].replace([\"\\t?\",\"\\t43\"],np.nan, inplace=True)"
   ]
  },
  {
   "cell_type": "code",
   "execution_count": 12,
   "id": "fb32fd94",
   "metadata": {
    "execution": {
     "iopub.execute_input": "2023-01-09T20:44:01.723679Z",
     "iopub.status.busy": "2023-01-09T20:44:01.723319Z",
     "iopub.status.idle": "2023-01-09T20:44:01.737710Z",
     "shell.execute_reply": "2023-01-09T20:44:01.736953Z"
    },
    "id": "y6ifRQpuI8ML",
    "papermill": {
     "duration": 0.03049,
     "end_time": "2023-01-09T20:44:01.739993",
     "exception": false,
     "start_time": "2023-01-09T20:44:01.709503",
     "status": "completed"
    },
    "tags": []
   },
   "outputs": [],
   "source": [
    "for columnName in CategoricalColumns:\n",
    "  data[columnName].fillna(data[columnName].mode()[0], inplace=True)"
   ]
  },
  {
   "cell_type": "code",
   "execution_count": 13,
   "id": "cd8e2abc",
   "metadata": {
    "execution": {
     "iopub.execute_input": "2023-01-09T20:44:01.766022Z",
     "iopub.status.busy": "2023-01-09T20:44:01.765062Z",
     "iopub.status.idle": "2023-01-09T20:44:01.773069Z",
     "shell.execute_reply": "2023-01-09T20:44:01.772138Z"
    },
    "id": "hENtgHa5J3a6",
    "papermill": {
     "duration": 0.0235,
     "end_time": "2023-01-09T20:44:01.775483",
     "exception": false,
     "start_time": "2023-01-09T20:44:01.751983",
     "status": "completed"
    },
    "tags": []
   },
   "outputs": [],
   "source": [
    "for columnName in NumericalColumns:\n",
    "  data[columnName].fillna(data[columnName].mean(), inplace=True)"
   ]
  },
  {
   "cell_type": "code",
   "execution_count": 14,
   "id": "acffef5c",
   "metadata": {
    "execution": {
     "iopub.execute_input": "2023-01-09T20:44:01.801341Z",
     "iopub.status.busy": "2023-01-09T20:44:01.800181Z",
     "iopub.status.idle": "2023-01-09T20:44:01.809620Z",
     "shell.execute_reply": "2023-01-09T20:44:01.808782Z"
    },
    "id": "bTTvnYHfNpkL",
    "papermill": {
     "duration": 0.024091,
     "end_time": "2023-01-09T20:44:01.811521",
     "exception": false,
     "start_time": "2023-01-09T20:44:01.787430",
     "status": "completed"
    },
    "tags": []
   },
   "outputs": [
    {
     "data": {
      "text/plain": [
       "id                0\n",
       "age               0\n",
       "bp                0\n",
       "sg                0\n",
       "al                0\n",
       "su                0\n",
       "rbc               0\n",
       "pc                0\n",
       "pcc               0\n",
       "ba                0\n",
       "bgr               0\n",
       "bu                0\n",
       "sc                0\n",
       "sod               0\n",
       "pot               0\n",
       "hemo              0\n",
       "pcv               0\n",
       "wc                0\n",
       "rc                0\n",
       "htn               0\n",
       "dm                0\n",
       "cad               0\n",
       "appet             0\n",
       "pe                0\n",
       "ane               0\n",
       "classification    0\n",
       "dtype: int64"
      ]
     },
     "execution_count": 14,
     "metadata": {},
     "output_type": "execute_result"
    }
   ],
   "source": [
    "data.isnull().sum()"
   ]
  },
  {
   "cell_type": "markdown",
   "id": "293246f6",
   "metadata": {
    "id": "cSy4vjkyPo1r",
    "papermill": {
     "duration": 0.011128,
     "end_time": "2023-01-09T20:44:01.834417",
     "exception": false,
     "start_time": "2023-01-09T20:44:01.823289",
     "status": "completed"
    },
    "tags": []
   },
   "source": [
    "# Dummy encode"
   ]
  },
  {
   "cell_type": "code",
   "execution_count": 15,
   "id": "a8c4ddb9",
   "metadata": {
    "execution": {
     "iopub.execute_input": "2023-01-09T20:44:01.860645Z",
     "iopub.status.busy": "2023-01-09T20:44:01.860080Z",
     "iopub.status.idle": "2023-01-09T20:44:01.873259Z",
     "shell.execute_reply": "2023-01-09T20:44:01.872077Z"
    },
    "id": "I3JJoEu4BFEN",
    "papermill": {
     "duration": 0.028671,
     "end_time": "2023-01-09T20:44:01.875606",
     "exception": false,
     "start_time": "2023-01-09T20:44:01.846935",
     "status": "completed"
    },
    "tags": []
   },
   "outputs": [],
   "source": [
    "encodeColumn = ['rbc','pc' ,'pcc' ,'ba' ,'htn' ,'dm' ,'cad' ,'appet' ,'pe' ,'ane']\n",
    "data = pd.get_dummies(data , columns=encodeColumn , prefix=encodeColumn , drop_first=True)"
   ]
  },
  {
   "cell_type": "code",
   "execution_count": 16,
   "id": "98834ea1",
   "metadata": {
    "execution": {
     "iopub.execute_input": "2023-01-09T20:44:01.901428Z",
     "iopub.status.busy": "2023-01-09T20:44:01.900899Z",
     "iopub.status.idle": "2023-01-09T20:44:01.907317Z",
     "shell.execute_reply": "2023-01-09T20:44:01.905972Z"
    },
    "id": "wZXJ8Q82MXgJ",
    "papermill": {
     "duration": 0.022515,
     "end_time": "2023-01-09T20:44:01.910145",
     "exception": false,
     "start_time": "2023-01-09T20:44:01.887630",
     "status": "completed"
    },
    "tags": []
   },
   "outputs": [],
   "source": [
    "data['classification'].replace([\"ckd\",\"notckd\"],[1,0], inplace=True)"
   ]
  },
  {
   "cell_type": "code",
   "execution_count": 17,
   "id": "d96e039a",
   "metadata": {
    "execution": {
     "iopub.execute_input": "2023-01-09T20:44:01.935180Z",
     "iopub.status.busy": "2023-01-09T20:44:01.934844Z",
     "iopub.status.idle": "2023-01-09T20:44:01.957565Z",
     "shell.execute_reply": "2023-01-09T20:44:01.956692Z"
    },
    "id": "4z2fNSBfNt85",
    "papermill": {
     "duration": 0.037343,
     "end_time": "2023-01-09T20:44:01.959339",
     "exception": false,
     "start_time": "2023-01-09T20:44:01.921996",
     "status": "completed"
    },
    "tags": []
   },
   "outputs": [
    {
     "data": {
      "text/html": [
       "<div>\n",
       "<style scoped>\n",
       "    .dataframe tbody tr th:only-of-type {\n",
       "        vertical-align: middle;\n",
       "    }\n",
       "\n",
       "    .dataframe tbody tr th {\n",
       "        vertical-align: top;\n",
       "    }\n",
       "\n",
       "    .dataframe thead th {\n",
       "        text-align: right;\n",
       "    }\n",
       "</style>\n",
       "<table border=\"1\" class=\"dataframe\">\n",
       "  <thead>\n",
       "    <tr style=\"text-align: right;\">\n",
       "      <th></th>\n",
       "      <th>id</th>\n",
       "      <th>age</th>\n",
       "      <th>bp</th>\n",
       "      <th>sg</th>\n",
       "      <th>al</th>\n",
       "      <th>su</th>\n",
       "      <th>bgr</th>\n",
       "      <th>bu</th>\n",
       "      <th>sc</th>\n",
       "      <th>sod</th>\n",
       "      <th>...</th>\n",
       "      <th>rbc_normal</th>\n",
       "      <th>pc_normal</th>\n",
       "      <th>pcc_present</th>\n",
       "      <th>ba_present</th>\n",
       "      <th>htn_yes</th>\n",
       "      <th>dm_yes</th>\n",
       "      <th>cad_yes</th>\n",
       "      <th>appet_poor</th>\n",
       "      <th>pe_yes</th>\n",
       "      <th>ane_yes</th>\n",
       "    </tr>\n",
       "  </thead>\n",
       "  <tbody>\n",
       "    <tr>\n",
       "      <th>0</th>\n",
       "      <td>0</td>\n",
       "      <td>48.0</td>\n",
       "      <td>80.0</td>\n",
       "      <td>1.020</td>\n",
       "      <td>1.0</td>\n",
       "      <td>0.0</td>\n",
       "      <td>121.000000</td>\n",
       "      <td>36.0</td>\n",
       "      <td>1.2</td>\n",
       "      <td>137.528754</td>\n",
       "      <td>...</td>\n",
       "      <td>1</td>\n",
       "      <td>1</td>\n",
       "      <td>0</td>\n",
       "      <td>0</td>\n",
       "      <td>1</td>\n",
       "      <td>1</td>\n",
       "      <td>0</td>\n",
       "      <td>0</td>\n",
       "      <td>0</td>\n",
       "      <td>0</td>\n",
       "    </tr>\n",
       "    <tr>\n",
       "      <th>1</th>\n",
       "      <td>1</td>\n",
       "      <td>7.0</td>\n",
       "      <td>50.0</td>\n",
       "      <td>1.020</td>\n",
       "      <td>4.0</td>\n",
       "      <td>0.0</td>\n",
       "      <td>148.036517</td>\n",
       "      <td>18.0</td>\n",
       "      <td>0.8</td>\n",
       "      <td>137.528754</td>\n",
       "      <td>...</td>\n",
       "      <td>1</td>\n",
       "      <td>1</td>\n",
       "      <td>0</td>\n",
       "      <td>0</td>\n",
       "      <td>0</td>\n",
       "      <td>0</td>\n",
       "      <td>0</td>\n",
       "      <td>0</td>\n",
       "      <td>0</td>\n",
       "      <td>0</td>\n",
       "    </tr>\n",
       "    <tr>\n",
       "      <th>2</th>\n",
       "      <td>2</td>\n",
       "      <td>62.0</td>\n",
       "      <td>80.0</td>\n",
       "      <td>1.010</td>\n",
       "      <td>2.0</td>\n",
       "      <td>3.0</td>\n",
       "      <td>423.000000</td>\n",
       "      <td>53.0</td>\n",
       "      <td>1.8</td>\n",
       "      <td>137.528754</td>\n",
       "      <td>...</td>\n",
       "      <td>1</td>\n",
       "      <td>1</td>\n",
       "      <td>0</td>\n",
       "      <td>0</td>\n",
       "      <td>0</td>\n",
       "      <td>1</td>\n",
       "      <td>0</td>\n",
       "      <td>1</td>\n",
       "      <td>0</td>\n",
       "      <td>1</td>\n",
       "    </tr>\n",
       "    <tr>\n",
       "      <th>3</th>\n",
       "      <td>3</td>\n",
       "      <td>48.0</td>\n",
       "      <td>70.0</td>\n",
       "      <td>1.005</td>\n",
       "      <td>4.0</td>\n",
       "      <td>0.0</td>\n",
       "      <td>117.000000</td>\n",
       "      <td>56.0</td>\n",
       "      <td>3.8</td>\n",
       "      <td>111.000000</td>\n",
       "      <td>...</td>\n",
       "      <td>1</td>\n",
       "      <td>0</td>\n",
       "      <td>1</td>\n",
       "      <td>0</td>\n",
       "      <td>1</td>\n",
       "      <td>0</td>\n",
       "      <td>0</td>\n",
       "      <td>1</td>\n",
       "      <td>1</td>\n",
       "      <td>1</td>\n",
       "    </tr>\n",
       "    <tr>\n",
       "      <th>4</th>\n",
       "      <td>4</td>\n",
       "      <td>51.0</td>\n",
       "      <td>80.0</td>\n",
       "      <td>1.010</td>\n",
       "      <td>2.0</td>\n",
       "      <td>0.0</td>\n",
       "      <td>106.000000</td>\n",
       "      <td>26.0</td>\n",
       "      <td>1.4</td>\n",
       "      <td>137.528754</td>\n",
       "      <td>...</td>\n",
       "      <td>1</td>\n",
       "      <td>1</td>\n",
       "      <td>0</td>\n",
       "      <td>0</td>\n",
       "      <td>0</td>\n",
       "      <td>0</td>\n",
       "      <td>0</td>\n",
       "      <td>0</td>\n",
       "      <td>0</td>\n",
       "      <td>0</td>\n",
       "    </tr>\n",
       "  </tbody>\n",
       "</table>\n",
       "<p>5 rows × 26 columns</p>\n",
       "</div>"
      ],
      "text/plain": [
       "   id   age    bp     sg   al   su         bgr    bu   sc         sod  ...  \\\n",
       "0   0  48.0  80.0  1.020  1.0  0.0  121.000000  36.0  1.2  137.528754  ...   \n",
       "1   1   7.0  50.0  1.020  4.0  0.0  148.036517  18.0  0.8  137.528754  ...   \n",
       "2   2  62.0  80.0  1.010  2.0  3.0  423.000000  53.0  1.8  137.528754  ...   \n",
       "3   3  48.0  70.0  1.005  4.0  0.0  117.000000  56.0  3.8  111.000000  ...   \n",
       "4   4  51.0  80.0  1.010  2.0  0.0  106.000000  26.0  1.4  137.528754  ...   \n",
       "\n",
       "   rbc_normal  pc_normal pcc_present ba_present htn_yes  dm_yes  cad_yes  \\\n",
       "0           1          1           0          0       1       1        0   \n",
       "1           1          1           0          0       0       0        0   \n",
       "2           1          1           0          0       0       1        0   \n",
       "3           1          0           1          0       1       0        0   \n",
       "4           1          1           0          0       0       0        0   \n",
       "\n",
       "   appet_poor  pe_yes  ane_yes  \n",
       "0           0       0        0  \n",
       "1           0       0        0  \n",
       "2           1       0        1  \n",
       "3           1       1        1  \n",
       "4           0       0        0  \n",
       "\n",
       "[5 rows x 26 columns]"
      ]
     },
     "execution_count": 17,
     "metadata": {},
     "output_type": "execute_result"
    }
   ],
   "source": [
    "data.head()"
   ]
  },
  {
   "cell_type": "code",
   "execution_count": 18,
   "id": "f9931c3d",
   "metadata": {
    "execution": {
     "iopub.execute_input": "2023-01-09T20:44:01.985224Z",
     "iopub.status.busy": "2023-01-09T20:44:01.984435Z",
     "iopub.status.idle": "2023-01-09T20:44:01.992752Z",
     "shell.execute_reply": "2023-01-09T20:44:01.991638Z"
    },
    "id": "4xBC6eePPJ7r",
    "papermill": {
     "duration": 0.023184,
     "end_time": "2023-01-09T20:44:01.994492",
     "exception": false,
     "start_time": "2023-01-09T20:44:01.971308",
     "status": "completed"
    },
    "tags": []
   },
   "outputs": [
    {
     "data": {
      "text/plain": [
       "1    250\n",
       "0    150\n",
       "Name: classification, dtype: int64"
      ]
     },
     "execution_count": 18,
     "metadata": {},
     "output_type": "execute_result"
    }
   ],
   "source": [
    "data.classification.value_counts()"
   ]
  },
  {
   "cell_type": "markdown",
   "id": "92d98890",
   "metadata": {
    "id": "gdfKlMESPiwZ",
    "papermill": {
     "duration": 0.012125,
     "end_time": "2023-01-09T20:44:02.018753",
     "exception": false,
     "start_time": "2023-01-09T20:44:02.006628",
     "status": "completed"
    },
    "tags": []
   },
   "source": [
    "# MinMax"
   ]
  },
  {
   "cell_type": "code",
   "execution_count": 19,
   "id": "c007e0ef",
   "metadata": {
    "execution": {
     "iopub.execute_input": "2023-01-09T20:44:02.045444Z",
     "iopub.status.busy": "2023-01-09T20:44:02.044867Z",
     "iopub.status.idle": "2023-01-09T20:44:02.050039Z",
     "shell.execute_reply": "2023-01-09T20:44:02.049379Z"
    },
    "id": "GFI1MVkFC1L8",
    "papermill": {
     "duration": 0.020628,
     "end_time": "2023-01-09T20:44:02.051854",
     "exception": false,
     "start_time": "2023-01-09T20:44:02.031226",
     "status": "completed"
    },
    "tags": []
   },
   "outputs": [],
   "source": [
    "X = data.loc[:, data.columns != 'classification']\n",
    "y = data['classification']"
   ]
  },
  {
   "cell_type": "code",
   "execution_count": 20,
   "id": "3787cba2",
   "metadata": {
    "execution": {
     "iopub.execute_input": "2023-01-09T20:44:02.078020Z",
     "iopub.status.busy": "2023-01-09T20:44:02.077475Z",
     "iopub.status.idle": "2023-01-09T20:44:02.086208Z",
     "shell.execute_reply": "2023-01-09T20:44:02.085577Z"
    },
    "id": "zTefYctqCYmE",
    "papermill": {
     "duration": 0.024166,
     "end_time": "2023-01-09T20:44:02.088398",
     "exception": false,
     "start_time": "2023-01-09T20:44:02.064232",
     "status": "completed"
    },
    "tags": []
   },
   "outputs": [],
   "source": [
    "min_max = MinMaxScaler()\n",
    "min_max.fit(X)\n",
    "X = min_max.transform(X)"
   ]
  },
  {
   "cell_type": "markdown",
   "id": "78d211ab",
   "metadata": {
    "id": "wKrJeJ63GOEW",
    "papermill": {
     "duration": 0.012015,
     "end_time": "2023-01-09T20:44:02.112872",
     "exception": false,
     "start_time": "2023-01-09T20:44:02.100857",
     "status": "completed"
    },
    "tags": []
   },
   "source": [
    "# Train Test Split"
   ]
  },
  {
   "cell_type": "code",
   "execution_count": 21,
   "id": "7aa70c39",
   "metadata": {
    "execution": {
     "iopub.execute_input": "2023-01-09T20:44:02.139055Z",
     "iopub.status.busy": "2023-01-09T20:44:02.138446Z",
     "iopub.status.idle": "2023-01-09T20:44:02.143398Z",
     "shell.execute_reply": "2023-01-09T20:44:02.142765Z"
    },
    "id": "H4HVzHxaGBHh",
    "papermill": {
     "duration": 0.020162,
     "end_time": "2023-01-09T20:44:02.145172",
     "exception": false,
     "start_time": "2023-01-09T20:44:02.125010",
     "status": "completed"
    },
    "tags": []
   },
   "outputs": [],
   "source": [
    "X_train, X_test, y_train, y_test = train_test_split(X, y, test_size=0.20, random_state=42)"
   ]
  },
  {
   "cell_type": "code",
   "execution_count": 22,
   "id": "892b1613",
   "metadata": {
    "execution": {
     "iopub.execute_input": "2023-01-09T20:44:02.172243Z",
     "iopub.status.busy": "2023-01-09T20:44:02.171688Z",
     "iopub.status.idle": "2023-01-09T20:44:02.211900Z",
     "shell.execute_reply": "2023-01-09T20:44:02.210874Z"
    },
    "id": "UdDuQ28RGCHi",
    "papermill": {
     "duration": 0.056337,
     "end_time": "2023-01-09T20:44:02.213782",
     "exception": false,
     "start_time": "2023-01-09T20:44:02.157445",
     "status": "completed"
    },
    "tags": []
   },
   "outputs": [
    {
     "name": "stdout",
     "output_type": "stream",
     "text": [
      "[1.    0.975 1.    1.   ]\n",
      "0.010825317547305492\n",
      "0.99375\n"
     ]
    }
   ],
   "source": [
    "log = LogisticRegression()\n",
    "cv_v = cross_val_score(log, X_train, y_train, cv=4)\n",
    "print(cv_v)\n",
    "print(cv_v.std())\n",
    "print(cv_v.mean())"
   ]
  },
  {
   "cell_type": "code",
   "execution_count": 23,
   "id": "a3d18f39",
   "metadata": {
    "execution": {
     "iopub.execute_input": "2023-01-09T20:44:02.239599Z",
     "iopub.status.busy": "2023-01-09T20:44:02.239025Z",
     "iopub.status.idle": "2023-01-09T20:44:02.253047Z",
     "shell.execute_reply": "2023-01-09T20:44:02.251678Z"
    },
    "id": "IYAleL_zLMlI",
    "papermill": {
     "duration": 0.029246,
     "end_time": "2023-01-09T20:44:02.255076",
     "exception": false,
     "start_time": "2023-01-09T20:44:02.225830",
     "status": "completed"
    },
    "tags": []
   },
   "outputs": [
    {
     "data": {
      "text/plain": [
       "LogisticRegression()"
      ]
     },
     "execution_count": 23,
     "metadata": {},
     "output_type": "execute_result"
    }
   ],
   "source": [
    "log.fit(X_train,y_train)"
   ]
  },
  {
   "cell_type": "code",
   "execution_count": 24,
   "id": "5fb74ed2",
   "metadata": {
    "execution": {
     "iopub.execute_input": "2023-01-09T20:44:02.282100Z",
     "iopub.status.busy": "2023-01-09T20:44:02.281692Z",
     "iopub.status.idle": "2023-01-09T20:44:02.291943Z",
     "shell.execute_reply": "2023-01-09T20:44:02.290755Z"
    },
    "id": "CNY0EVF6Km7B",
    "papermill": {
     "duration": 0.026756,
     "end_time": "2023-01-09T20:44:02.294045",
     "exception": false,
     "start_time": "2023-01-09T20:44:02.267289",
     "status": "completed"
    },
    "tags": []
   },
   "outputs": [
    {
     "name": "stdout",
     "output_type": "stream",
     "text": [
      "              precision    recall  f1-score   support\n",
      "\n",
      "           0       0.97      1.00      0.98        28\n",
      "           1       1.00      0.98      0.99        52\n",
      "\n",
      "    accuracy                           0.99        80\n",
      "   macro avg       0.98      0.99      0.99        80\n",
      "weighted avg       0.99      0.99      0.99        80\n",
      "\n"
     ]
    }
   ],
   "source": [
    "y_pred = log.predict(X_test)\n",
    "print(classification_report(y_test,y_pred))"
   ]
  },
  {
   "cell_type": "code",
   "execution_count": null,
   "id": "e8b7e146",
   "metadata": {},
   "outputs": [],
   "source": []
  }
 ],
 "metadata": {
  "kernelspec": {
   "display_name": "Python 3 (ipykernel)",
   "language": "python",
   "name": "python3"
  },
  "language_info": {
   "codemirror_mode": {
    "name": "ipython",
    "version": 3
   },
   "file_extension": ".py",
   "mimetype": "text/x-python",
   "name": "python",
   "nbconvert_exporter": "python",
   "pygments_lexer": "ipython3",
   "version": "3.9.13"
  },
  "papermill": {
   "default_parameters": {},
   "duration": 16.863758,
   "end_time": "2023-01-09T20:44:03.229584",
   "environment_variables": {},
   "exception": null,
   "input_path": "__notebook__.ipynb",
   "output_path": "__notebook__.ipynb",
   "parameters": {},
   "start_time": "2023-01-09T20:43:46.365826",
   "version": "2.3.4"
  }
 },
 "nbformat": 4,
 "nbformat_minor": 5
}
